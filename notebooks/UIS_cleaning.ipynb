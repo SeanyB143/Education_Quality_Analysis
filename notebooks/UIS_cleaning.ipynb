{
 "cells": [
  {
   "cell_type": "markdown",
   "metadata": {},
   "source": [
    "> In this notebook, we import and format the UIS education statistics for modeling. Features from this data serve to measure \"school climate\"."
   ]
  },
  {
   "cell_type": "code",
   "execution_count": 232,
   "metadata": {},
   "outputs": [],
   "source": [
    "import pandas as pd\n",
    "import numpy as np"
   ]
  },
  {
   "cell_type": "code",
   "execution_count": 233,
   "metadata": {
    "scrolled": true
   },
   "outputs": [
    {
     "data": {
      "text/html": [
       "<div>\n",
       "<style scoped>\n",
       "    .dataframe tbody tr th:only-of-type {\n",
       "        vertical-align: middle;\n",
       "    }\n",
       "\n",
       "    .dataframe tbody tr th {\n",
       "        vertical-align: top;\n",
       "    }\n",
       "\n",
       "    .dataframe thead th {\n",
       "        text-align: right;\n",
       "    }\n",
       "</style>\n",
       "<table border=\"1\" class=\"dataframe\">\n",
       "  <thead>\n",
       "    <tr style=\"text-align: right;\">\n",
       "      <th></th>\n",
       "      <th>Country</th>\n",
       "      <th>EDULIT_IND</th>\n",
       "      <th>Flag Codes</th>\n",
       "      <th>Flags</th>\n",
       "      <th>Indicator</th>\n",
       "      <th>LOCATION</th>\n",
       "      <th>TIME</th>\n",
       "      <th>Time</th>\n",
       "      <th>Value</th>\n",
       "    </tr>\n",
       "  </thead>\n",
       "  <tbody>\n",
       "    <tr>\n",
       "      <th>0</th>\n",
       "      <td>Cyprus</td>\n",
       "      <td>AIR_1</td>\n",
       "      <td>+</td>\n",
       "      <td>National Estimation</td>\n",
       "      <td>Gross intake ratio to Grade 1 of primary educa...</td>\n",
       "      <td>CYP</td>\n",
       "      <td>2000</td>\n",
       "      <td>2000</td>\n",
       "      <td>100.69412</td>\n",
       "    </tr>\n",
       "    <tr>\n",
       "      <th>1</th>\n",
       "      <td>Cyprus</td>\n",
       "      <td>AIR_1</td>\n",
       "      <td>+</td>\n",
       "      <td>National Estimation</td>\n",
       "      <td>Gross intake ratio to Grade 1 of primary educa...</td>\n",
       "      <td>CYP</td>\n",
       "      <td>2001</td>\n",
       "      <td>2001</td>\n",
       "      <td>99.80127</td>\n",
       "    </tr>\n",
       "    <tr>\n",
       "      <th>2</th>\n",
       "      <td>Cyprus</td>\n",
       "      <td>AIR_1</td>\n",
       "      <td>+</td>\n",
       "      <td>National Estimation</td>\n",
       "      <td>Gross intake ratio to Grade 1 of primary educa...</td>\n",
       "      <td>CYP</td>\n",
       "      <td>2002</td>\n",
       "      <td>2002</td>\n",
       "      <td>98.23879</td>\n",
       "    </tr>\n",
       "    <tr>\n",
       "      <th>3</th>\n",
       "      <td>Cyprus</td>\n",
       "      <td>AIR_1</td>\n",
       "      <td>+</td>\n",
       "      <td>National Estimation</td>\n",
       "      <td>Gross intake ratio to Grade 1 of primary educa...</td>\n",
       "      <td>CYP</td>\n",
       "      <td>2003</td>\n",
       "      <td>2003</td>\n",
       "      <td>99.06412</td>\n",
       "    </tr>\n",
       "    <tr>\n",
       "      <th>4</th>\n",
       "      <td>Cyprus</td>\n",
       "      <td>AIR_1</td>\n",
       "      <td>+</td>\n",
       "      <td>National Estimation</td>\n",
       "      <td>Gross intake ratio to Grade 1 of primary educa...</td>\n",
       "      <td>CYP</td>\n",
       "      <td>2004</td>\n",
       "      <td>2004</td>\n",
       "      <td>100.39945</td>\n",
       "    </tr>\n",
       "  </tbody>\n",
       "</table>\n",
       "</div>"
      ],
      "text/plain": [
       "  Country EDULIT_IND Flag Codes                Flags  \\\n",
       "0  Cyprus      AIR_1          +  National Estimation   \n",
       "1  Cyprus      AIR_1          +  National Estimation   \n",
       "2  Cyprus      AIR_1          +  National Estimation   \n",
       "3  Cyprus      AIR_1          +  National Estimation   \n",
       "4  Cyprus      AIR_1          +  National Estimation   \n",
       "\n",
       "                                           Indicator LOCATION  TIME  Time  \\\n",
       "0  Gross intake ratio to Grade 1 of primary educa...      CYP  2000  2000   \n",
       "1  Gross intake ratio to Grade 1 of primary educa...      CYP  2001  2001   \n",
       "2  Gross intake ratio to Grade 1 of primary educa...      CYP  2002  2002   \n",
       "3  Gross intake ratio to Grade 1 of primary educa...      CYP  2003  2003   \n",
       "4  Gross intake ratio to Grade 1 of primary educa...      CYP  2004  2004   \n",
       "\n",
       "       Value  \n",
       "0  100.69412  \n",
       "1   99.80127  \n",
       "2   98.23879  \n",
       "3   99.06412  \n",
       "4  100.39945  "
      ]
     },
     "execution_count": 233,
     "metadata": {},
     "output_type": "execute_result"
    }
   ],
   "source": [
    "uis_1 = pd.read_csv('../data/UIS/EDULIT_DS_23082019165936814.csv')\n",
    "uis_2 = pd.read_csv('../data/UIS/EDULIT_DS_25082019015237837.csv')\n",
    "\n",
    "uis = pd.concat([uis_1, uis_2], sort=True)\n",
    "uis.head()"
   ]
  },
  {
   "cell_type": "code",
   "execution_count": 234,
   "metadata": {},
   "outputs": [],
   "source": [
    "countries = ['Albania', 'Algeria', 'Argentina', 'Australia', 'Austria', 'Belgium', 'Brazil',\n",
    "             'Bulgaria', 'Canada', 'Chile', 'China', 'Colombia', 'Costa Rica', 'Croatia',\n",
    "             'Cyprus', 'Czechia', 'Denmark', 'Dominican Republic', 'Estonia', 'Finland',\n",
    "             'France', 'Georgia', 'Germany', 'Greece', 'Hungary', 'Iceland', 'Indonesia',\n",
    "             'Ireland', 'Israel', 'Italy', 'Japan', 'Jordan', 'Kazakhstan', 'Latvia',\n",
    "             'Lebanon', 'Lithuania', 'Luxembourg', 'Malaysia', 'Malta', 'Mexico',\n",
    "             'Montenegro', 'Netherlands', 'New Zealand', 'North Macedonia', 'Norway',\n",
    "             'Peru', 'Poland', 'Portugal', 'Qatar', 'Republic of Korea', 'Republic of Moldova',\n",
    "             'Romania', 'Russian Federation', 'Singapore', 'Slovakia', 'Slovenia', 'Spain',\n",
    "             'Sweden', 'Switzerland', 'Thailand', 'Trinidad and Tobago', 'Tunisia', 'Turkey',\n",
    "             'United Arab Emirates', 'United Kingdom of Great Britain and Northern Ireland',\n",
    "             'United States of America', 'Uruguay', 'Viet Nam']"
   ]
  },
  {
   "cell_type": "code",
   "execution_count": 235,
   "metadata": {
    "scrolled": true
   },
   "outputs": [
    {
     "data": {
      "text/plain": [
       "97"
      ]
     },
     "execution_count": 235,
     "metadata": {},
     "output_type": "execute_result"
    }
   ],
   "source": [
    "features = [feature for feature in uis['Indicator'].unique()]\n",
    "len(features)"
   ]
  },
  {
   "cell_type": "code",
   "execution_count": 236,
   "metadata": {},
   "outputs": [],
   "source": [
    "uis_df = pd.DataFrame(index=None, columns=features)\n",
    "for year in [2015]:\n",
    "    year_filter = (uis['TIME'] == year)\n",
    "    \n",
    "    for country in countries:\n",
    "        country_filter = (uis['Country'] == country)\n",
    "\n",
    "        year_country_dict = {feature: 0 for feature in features}\n",
    "        year_country_index = [f\"{year}_{country}\"]\n",
    "\n",
    "        for feature in features:\n",
    "            feature_filter = (uis['Indicator'] == feature)\n",
    "            \n",
    "            try:\n",
    "                year_country_dict[feature] += uis[year_filter\n",
    "                                                  & country_filter\n",
    "                                                  & feature_filter]['Value'].values[0]\n",
    "            except:\n",
    "                year_country_dict[feature] = np.nan\n",
    "                \n",
    "        year_country_df = pd.DataFrame(year_country_dict, index=year_country_index)\n",
    "        uis_df = pd.concat([uis_df, year_country_df])"
   ]
  },
  {
   "cell_type": "code",
   "execution_count": 237,
   "metadata": {},
   "outputs": [
    {
     "data": {
      "text/plain": [
       "40"
      ]
     },
     "execution_count": 237,
     "metadata": {},
     "output_type": "execute_result"
    }
   ],
   "source": [
    "good_feature_dict = {column: uis_df[column].isna().sum()\n",
    "                     for column in uis_df.columns\n",
    "                     if uis_df[column].isna().sum() < 30}\n",
    "good_features = list(good_feature_dict.keys())\n",
    "len(good_features)"
   ]
  },
  {
   "cell_type": "code",
   "execution_count": 238,
   "metadata": {},
   "outputs": [
    {
     "data": {
      "text/plain": [
       "[2000, 2003, 2006, 2009, 2012, 2015]"
      ]
     },
     "execution_count": 238,
     "metadata": {},
     "output_type": "execute_result"
    }
   ],
   "source": [
    "years = [year for year in range(2000, 2016, 3)]\n",
    "years"
   ]
  },
  {
   "cell_type": "code",
   "execution_count": 239,
   "metadata": {},
   "outputs": [],
   "source": [
    "uis_df = pd.DataFrame(index=None, columns=good_features)\n",
    "for year in years:\n",
    "    year_filter = (uis['TIME'] == year)\n",
    "    \n",
    "    for country in countries:\n",
    "        country_filter = (uis['Country'] == country)\n",
    "\n",
    "        year_country_dict = {feature: 0 for feature in good_features}\n",
    "        year_country_index = [f\"{year}_{country}\"]\n",
    "\n",
    "        for feature in good_features:\n",
    "            feature_filter = (uis['Indicator'] == feature)\n",
    "            \n",
    "            try:\n",
    "                year_country_dict[feature] += uis[year_filter\n",
    "                                                  & country_filter\n",
    "                                                  & feature_filter]['Value'].values[0]\n",
    "            except:\n",
    "                year_country_dict[feature] = np.nan\n",
    "                \n",
    "        year_country_df = pd.DataFrame(year_country_dict, index=year_country_index)\n",
    "        uis_df = pd.concat([uis_df, year_country_df])"
   ]
  },
  {
   "cell_type": "code",
   "execution_count": 240,
   "metadata": {},
   "outputs": [
    {
     "data": {
      "text/plain": [
       "(408, 40)"
      ]
     },
     "execution_count": 240,
     "metadata": {},
     "output_type": "execute_result"
    }
   ],
   "source": [
    "uis_df.shape"
   ]
  },
  {
   "cell_type": "code",
   "execution_count": 242,
   "metadata": {},
   "outputs": [],
   "source": [
    "uis_df.to_csv('../data/UIS/uis.csv', index_label='Year_Country')"
   ]
  }
 ],
 "metadata": {
  "kernelspec": {
   "display_name": "Python 3",
   "language": "python",
   "name": "python3"
  },
  "language_info": {
   "codemirror_mode": {
    "name": "ipython",
    "version": 3
   },
   "file_extension": ".py",
   "mimetype": "text/x-python",
   "name": "python",
   "nbconvert_exporter": "python",
   "pygments_lexer": "ipython3",
   "version": "3.6.9"
  },
  "latex_envs": {
   "LaTeX_envs_menu_present": true,
   "autoclose": false,
   "autocomplete": true,
   "bibliofile": "biblio.bib",
   "cite_by": "apalike",
   "current_citInitial": 1,
   "eqLabelWithNumbers": true,
   "eqNumInitial": 1,
   "hotkeys": {
    "equation": "Ctrl-E",
    "itemize": "Ctrl-I"
   },
   "labels_anchors": false,
   "latex_user_defs": false,
   "report_style_numbering": false,
   "user_envs_cfg": false
  },
  "varInspector": {
   "cols": {
    "lenName": 16,
    "lenType": 16,
    "lenVar": 40
   },
   "kernels_config": {
    "python": {
     "delete_cmd_postfix": "",
     "delete_cmd_prefix": "del ",
     "library": "var_list.py",
     "varRefreshCmd": "print(var_dic_list())"
    },
    "r": {
     "delete_cmd_postfix": ") ",
     "delete_cmd_prefix": "rm(",
     "library": "var_list.r",
     "varRefreshCmd": "cat(var_dic_list()) "
    }
   },
   "types_to_exclude": [
    "module",
    "function",
    "builtin_function_or_method",
    "instance",
    "_Feature"
   ],
   "window_display": false
  }
 },
 "nbformat": 4,
 "nbformat_minor": 2
}
