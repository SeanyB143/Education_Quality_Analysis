{
 "cells": [
  {
   "cell_type": "markdown",
   "metadata": {},
   "source": [
    "> In this notebook, we import and format the PISA assessment data for modeling. Features from this data help to measure \"learning outcomes\"."
   ]
  },
  {
   "cell_type": "code",
   "execution_count": 405,
   "metadata": {},
   "outputs": [],
   "source": [
    "import pandas as pd\n",
    "import numpy as np"
   ]
  },
  {
   "cell_type": "code",
   "execution_count": 406,
   "metadata": {},
   "outputs": [],
   "source": [
    "math = pd.read_csv('../data/pisa/math_report-Table 1.csv')\n",
    "reading = pd.read_csv('../data/pisa/reading_report-Table 1.csv')\n",
    "science = pd.read_csv('../data/pisa/science_report-Table 1.csv')"
   ]
  },
  {
   "cell_type": "code",
   "execution_count": 407,
   "metadata": {
    "scrolled": true
   },
   "outputs": [
    {
     "data": {
      "text/plain": [
       "[2000, 2003, 2006, 2009, 2012, 2015]"
      ]
     },
     "execution_count": 407,
     "metadata": {},
     "output_type": "execute_result"
    }
   ],
   "source": [
    "years = [year for year in range(2000, 2016, 3)]\n",
    "years"
   ]
  },
  {
   "cell_type": "code",
   "execution_count": 408,
   "metadata": {},
   "outputs": [],
   "source": [
    "countries = ['Albania', 'Algeria', 'Argentina', 'Australia', 'Austria', 'Belgium', 'Brazil',\n",
    "             'Bulgaria', 'Canada', 'Chile', 'China', 'Colombia', 'Costa Rica', 'Croatia',\n",
    "             'Cyprus', 'Czechia', 'Denmark', 'Dominican Republic', 'Estonia', 'Finland',\n",
    "             'France', 'Georgia', 'Germany', 'Greece', 'Hungary', 'Iceland', 'Indonesia',\n",
    "             'Ireland', 'Israel', 'Italy', 'Japan', 'Jordan', 'Kazakhstan', 'Latvia',\n",
    "             'Lebanon', 'Lithuania', 'Luxembourg', 'Malaysia', 'Malta', 'Mexico',\n",
    "             'Montenegro', 'Netherlands', 'New Zealand', 'North Macedonia', 'Norway',\n",
    "             'Peru', 'Poland', 'Portugal', 'Qatar', 'Republic of Korea', 'Republic of Moldova',\n",
    "             'Romania', 'Russian Federation', 'Singapore', 'Slovakia', 'Slovenia', 'Spain',\n",
    "             'Sweden', 'Switzerland', 'Thailand', 'Trinidad and Tobago', 'Tunisia', 'Turkey',\n",
    "             'United Arab Emirates', 'United Kingdom of Great Britain and Northern Ireland',\n",
    "             'United States of America', 'Uruguay', 'Viet Nam']"
   ]
  },
  {
   "cell_type": "code",
   "execution_count": 409,
   "metadata": {},
   "outputs": [],
   "source": [
    "rename_dict = {'Argentina (2015)': 'Argentina',\n",
    "                          'B-S-J-G (China)': 'China',\n",
    "                          'Hong Kong (China)': 'China',\n",
    "                          'Macao (China)': 'China',\n",
    "                          'Chinese Taipei': 'China',\n",
    "                          'Czech Republic': 'Czechia',\n",
    "                          'FYROM': 'North Macedonia',\n",
    "                          'Korea': 'Republic of Korea',\n",
    "                          'Moldova': 'Republic of Moldova',\n",
    "                          'Russia': 'Russian Federation',\n",
    "                          'Slovak Republic': 'Slovakia',\n",
    "                          'United Kingdom':\n",
    "                          'United Kingdom of Great Britain and Northern Ireland',\n",
    "                          'United States': 'United States of America'}"
   ]
  },
  {
   "cell_type": "code",
   "execution_count": 410,
   "metadata": {},
   "outputs": [],
   "source": [
    "for country in math['Jurisdiction']:\n",
    "    if country in rename_dict.keys():\n",
    "        math.loc[math['Jurisdiction'] == country, 'Jurisdiction'] = rename_dict[country]"
   ]
  },
  {
   "cell_type": "code",
   "execution_count": 411,
   "metadata": {},
   "outputs": [],
   "source": [
    "for country in reading['Jurisdiction']:\n",
    "    if country in rename_dict.keys():\n",
    "        reading.loc[reading['Jurisdiction'] == country, 'Jurisdiction'] = rename_dict[country]"
   ]
  },
  {
   "cell_type": "code",
   "execution_count": 412,
   "metadata": {},
   "outputs": [],
   "source": [
    "for country in science['Jurisdiction']:\n",
    "    if country in rename_dict.keys():\n",
    "        science.loc[science['Jurisdiction'] == country, 'Jurisdiction'] = rename_dict[country]"
   ]
  },
  {
   "cell_type": "code",
   "execution_count": 421,
   "metadata": {
    "scrolled": true
   },
   "outputs": [],
   "source": [
    "year_country_index = []\n",
    "\n",
    "for year in years:\n",
    "    for country in countries:\n",
    "        year_country_index.append(f\"{year}_{country}\")\n",
    "\n",
    "columns = [f\"pisa_{subject}\" for subject in ['math', 'reading', 'science']]\n",
    "\n",
    "pisa = pd.DataFrame(index=year_country_index, columns=columns)"
   ]
  },
  {
   "cell_type": "code",
   "execution_count": 414,
   "metadata": {},
   "outputs": [
    {
     "data": {
      "text/plain": [
       "(408, 3)"
      ]
     },
     "execution_count": 414,
     "metadata": {},
     "output_type": "execute_result"
    }
   ],
   "source": [
    "pisa.shape"
   ]
  },
  {
   "cell_type": "code",
   "execution_count": 415,
   "metadata": {},
   "outputs": [
    {
     "data": {
      "text/plain": [
       "Index(['pisa_math', 'pisa_reading', 'pisa_science'], dtype='object')"
      ]
     },
     "execution_count": 415,
     "metadata": {},
     "output_type": "execute_result"
    }
   ],
   "source": [
    "pisa.columns"
   ]
  },
  {
   "cell_type": "code",
   "execution_count": 416,
   "metadata": {},
   "outputs": [],
   "source": [
    "for year in years:\n",
    "    year_filter = (math['Year'] == year)\n",
    "\n",
    "    for country in countries:\n",
    "        country_filter = (math['Jurisdiction'] == country)\n",
    "\n",
    "        value_list = math[year_filter & country_filter]['Average'].values\n",
    "        \n",
    "        if len(value_list) == 1:\n",
    "            try:\n",
    "                mean_math = math[year_filter & country_filter]['Average'].values[0]\n",
    "                pisa.loc[f\"{year}_{country}\", 'pisa_math'] = float(mean_math)\n",
    "            \n",
    "            except:\n",
    "                pisa.loc[f\"{year}_{country}\", 'pisa_math'] = np.nan\n",
    "                \n",
    "        elif len(value_list) == 0:\n",
    "            try:\n",
    "                mean_math = science[year_filter & country_filter]['Average']\n",
    "                pisa.loc[f\"{year}_{country}\", 'pisa_math'] = float(mean_math)\n",
    "                \n",
    "            except:\n",
    "                pisa.loc[f\"{year}_{country}\", 'pisa_math'] = np.nan\n",
    "        else:\n",
    "            pisa.loc[f\"{year}_{country}\", 'pisa_math'] = np.nan"
   ]
  },
  {
   "cell_type": "code",
   "execution_count": 417,
   "metadata": {},
   "outputs": [],
   "source": [
    "for year in years:\n",
    "    year_filter = (reading['Year'] == year)\n",
    "\n",
    "    for country in countries:\n",
    "        country_filter = (reading['Jurisdiction'] == country)\n",
    "\n",
    "        value_list = reading[year_filter & country_filter]['Average'].values\n",
    "        \n",
    "        if len(value_list) == 1:\n",
    "            try:\n",
    "                mean_reading = reading[year_filter & country_filter]['Average'].values[0]\n",
    "                pisa.loc[f\"{year}_{country}\", 'pisa_reading'] = float(mean_reading)\n",
    "            \n",
    "            except:\n",
    "                pisa.loc[f\"{year}_{country}\", 'pisa_reading'] = np.nan\n",
    "                \n",
    "        elif len(value_list) == 0:\n",
    "            try:\n",
    "                mean_reading = reading[year_filter & country_filter]['Average']\n",
    "                pisa.loc[f\"{year}_{country}\", 'pisa_reading'] = float(mean_reading)\n",
    "                \n",
    "            except:\n",
    "                pisa.loc[f\"{year}_{country}\", 'pisa_reading'] = np.nan\n",
    "        else:\n",
    "            pisa.loc[f\"{year}_{country}\", 'pisa_math'] = np.nan"
   ]
  },
  {
   "cell_type": "code",
   "execution_count": 418,
   "metadata": {},
   "outputs": [],
   "source": [
    "for year in years:\n",
    "    year_filter = (science['Year'] == year)\n",
    "\n",
    "    for country in countries:\n",
    "        country_filter = (science['Jurisdiction'] == country)\n",
    "\n",
    "        value_list = science[year_filter & country_filter]['Average'].values\n",
    "        \n",
    "        if len(value_list) == 1:\n",
    "            try:\n",
    "                mean_science = science[year_filter & country_filter]['Average'].values[0]\n",
    "                pisa.loc[f\"{year}_{country}\", 'pisa_science'] = float(mean_science)\n",
    "            \n",
    "            except:\n",
    "                pisa.loc[f\"{year}_{country}\", 'pisa_science'] = np.nan\n",
    "                \n",
    "        elif len(value_list) == 0:\n",
    "            try:\n",
    "                mean_science = science[year_filter & country_filter]['Average']\n",
    "                pisa.loc[f\"{year}_{country}\", 'pisa_science'] = float(mean_science)\n",
    "                \n",
    "            except:\n",
    "                pisa.loc[f\"{year}_{country}\", 'pisa_science'] = np.nan\n",
    "        else:\n",
    "            pisa.loc[f\"{year}_{country}\", 'pisa_math'] = np.nan"
   ]
  },
  {
   "cell_type": "code",
   "execution_count": 420,
   "metadata": {},
   "outputs": [],
   "source": [
    "pisa.to_csv('../data/pisa/pisa.csv', index_label='Year_Country')"
   ]
  }
 ],
 "metadata": {
  "kernelspec": {
   "display_name": "Python 3",
   "language": "python",
   "name": "python3"
  },
  "language_info": {
   "codemirror_mode": {
    "name": "ipython",
    "version": 3
   },
   "file_extension": ".py",
   "mimetype": "text/x-python",
   "name": "python",
   "nbconvert_exporter": "python",
   "pygments_lexer": "ipython3",
   "version": "3.6.9"
  },
  "latex_envs": {
   "LaTeX_envs_menu_present": true,
   "autoclose": false,
   "autocomplete": true,
   "bibliofile": "biblio.bib",
   "cite_by": "apalike",
   "current_citInitial": 1,
   "eqLabelWithNumbers": true,
   "eqNumInitial": 1,
   "hotkeys": {
    "equation": "Ctrl-E",
    "itemize": "Ctrl-I"
   },
   "labels_anchors": false,
   "latex_user_defs": false,
   "report_style_numbering": false,
   "user_envs_cfg": false
  },
  "varInspector": {
   "cols": {
    "lenName": 16,
    "lenType": 16,
    "lenVar": 40
   },
   "kernels_config": {
    "python": {
     "delete_cmd_postfix": "",
     "delete_cmd_prefix": "del ",
     "library": "var_list.py",
     "varRefreshCmd": "print(var_dic_list())"
    },
    "r": {
     "delete_cmd_postfix": ") ",
     "delete_cmd_prefix": "rm(",
     "library": "var_list.r",
     "varRefreshCmd": "cat(var_dic_list()) "
    }
   },
   "types_to_exclude": [
    "module",
    "function",
    "builtin_function_or_method",
    "instance",
    "_Feature"
   ],
   "window_display": false
  }
 },
 "nbformat": 4,
 "nbformat_minor": 2
}
