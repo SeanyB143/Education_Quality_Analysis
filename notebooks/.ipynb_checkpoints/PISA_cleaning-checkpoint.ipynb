{
 "cells": [
  {
   "cell_type": "code",
   "execution_count": 1,
   "metadata": {},
   "outputs": [],
   "source": [
    "import pandas as pd\n",
    "import numpy as np"
   ]
  },
  {
   "cell_type": "code",
   "execution_count": 14,
   "metadata": {},
   "outputs": [],
   "source": [
    "math = pd.read_csv('../data/pisa/math_report-Table 1.csv')\n",
    "reading = pd.read_csv('../data/pisa/reading_report-Table 1.csv')\n",
    "science = pd.read_csv('../data/pisa/science_report-Table 1.csv')"
   ]
  },
  {
   "cell_type": "code",
   "execution_count": 15,
   "metadata": {},
   "outputs": [],
   "source": [
    "def create_df(data, name=None):\n",
    "    years = list(data['Year'].unique())\n",
    "    countries = list(data['Jurisdiction'].unique())\n",
    "\n",
    "    index_mean = [f\"{year}_mean_{name}\" for year in years]\n",
    "    index_std = [f\"{year}_std_{name}\" for year in years]\n",
    "\n",
    "    output_df = pd.DataFrame(index=index_mean + index_std, columns=countries)\n",
    "\n",
    "    for year in years:\n",
    "        for country in countries:\n",
    "            mean = str(data[(data['Year'] == year) & (data['Jurisdiction'] == country)]['Average'].values[0])\n",
    "            std = str(data[(data['Year'] == year)\n",
    "                           & (data['Jurisdiction'] == country)]['Standard Error'].values[0]).strip('()')\n",
    "            try:\n",
    "                output_df[country][f\"{year}_mean_{name}\"] = float(mean)\n",
    "            except:\n",
    "                output_df[country][f\"{year}_mean_{name}\"] = np.nan\n",
    "            try:\n",
    "                output_df[country][f\"{year}_std_{name}\"] = float(std)\n",
    "            except:\n",
    "                output_df[country][f\"{year}_std_{name}\"] = np.nan\n",
    "    return output_df"
   ]
  },
  {
   "cell_type": "code",
   "execution_count": 22,
   "metadata": {},
   "outputs": [],
   "source": [
    "math_df = create_df(math, 'math')\n",
    "reading_df = create_df(reading, 'reading')\n",
    "science_df = create_df(science, 'science')"
   ]
  },
  {
   "cell_type": "code",
   "execution_count": 37,
   "metadata": {},
   "outputs": [],
   "source": [
    "pisa = pd.concat([math_df, reading_df, science_df], sort=True)"
   ]
  },
  {
   "cell_type": "code",
   "execution_count": 39,
   "metadata": {},
   "outputs": [],
   "source": [
    "places = pisa.columns\n",
    "\n",
    "china = [place for place in places if 'Chin' in place]\n",
    "only_2015 = [place for place in places if '2015' in place]\n",
    "cities = [place for place in places if ':' in place]"
   ]
  },
  {
   "cell_type": "code",
   "execution_count": 40,
   "metadata": {},
   "outputs": [],
   "source": [
    "pisa['China'] = pd.DataFrame(round(pisa[china].T.mean(), 0))"
   ]
  },
  {
   "cell_type": "code",
   "execution_count": 41,
   "metadata": {
    "scrolled": true
   },
   "outputs": [],
   "source": [
    "pisa = pisa.drop(columns=china).drop(columns=only_2015).drop(columns=cities)"
   ]
  },
  {
   "cell_type": "code",
   "execution_count": 42,
   "metadata": {},
   "outputs": [],
   "source": [
    "pisa = pisa.drop(columns='Selected countries and jurisdictions').rename({'CABA (Argentina)': 'Argentina',\n",
    "                                                                         'Viet Nam': 'Vietnam',\n",
    "                                                                         'FYROM': 'North Macedonia',\n",
    "                                                                        'Korea': 'Korea, Rep.',\n",
    "                                                                        'Russia': 'Russian Federation'}, axis=1)"
   ]
  },
  {
   "cell_type": "code",
   "execution_count": 51,
   "metadata": {
    "scrolled": true
   },
   "outputs": [
    {
     "data": {
      "text/plain": [
       "Index(['Albania', 'Algeria', 'Argentina', 'Australia', 'Austria', 'Belgium',\n",
       "       'Brazil', 'Bulgaria', 'Canada', 'Chile', 'China', 'Colombia',\n",
       "       'Costa Rica', 'Croatia', 'Cyprus', 'Czech Republic', 'Denmark',\n",
       "       'Dominican Republic', 'Estonia', 'Finland', 'France', 'Georgia',\n",
       "       'Germany', 'Greece', 'Hungary', 'Iceland', 'Indonesia',\n",
       "       'International Average (OECD)', 'Ireland', 'Israel', 'Italy', 'Japan',\n",
       "       'Jordan', 'Kazakhstan', 'Korea, Rep.', 'Kosovo', 'Latvia', 'Lebanon',\n",
       "       'Lithuania', 'Luxembourg', 'Malaysia', 'Malta', 'Mexico', 'Moldova',\n",
       "       'Montenegro', 'Netherlands', 'New Zealand', 'North Macedonia', 'Norway',\n",
       "       'Peru', 'Poland', 'Portugal', 'Qatar', 'Romania', 'Russian Federation',\n",
       "       'Singapore', 'Slovak Republic', 'Slovenia', 'Spain', 'Sweden',\n",
       "       'Switzerland', 'Thailand', 'Trinidad and Tobago', 'Tunisia', 'Turkey',\n",
       "       'United Arab Emirates', 'United Kingdom', 'United States', 'Uruguay',\n",
       "       'Vietnam'],\n",
       "      dtype='object')"
      ]
     },
     "execution_count": 51,
     "metadata": {},
     "output_type": "execute_result"
    }
   ],
   "source": [
    "pisa.columns.sort_values()"
   ]
  },
  {
   "cell_type": "code",
   "execution_count": 48,
   "metadata": {},
   "outputs": [],
   "source": [
    "pisa.to_csv('../data/pisa/pisa.csv', index=True)"
   ]
  },
  {
   "cell_type": "code",
   "execution_count": null,
   "metadata": {},
   "outputs": [],
   "source": []
  }
 ],
 "metadata": {
  "kernelspec": {
   "display_name": "Python 3",
   "language": "python",
   "name": "python3"
  },
  "language_info": {
   "codemirror_mode": {
    "name": "ipython",
    "version": 3
   },
   "file_extension": ".py",
   "mimetype": "text/x-python",
   "name": "python",
   "nbconvert_exporter": "python",
   "pygments_lexer": "ipython3",
   "version": "3.6.9"
  },
  "latex_envs": {
   "LaTeX_envs_menu_present": true,
   "autoclose": false,
   "autocomplete": true,
   "bibliofile": "biblio.bib",
   "cite_by": "apalike",
   "current_citInitial": 1,
   "eqLabelWithNumbers": true,
   "eqNumInitial": 1,
   "hotkeys": {
    "equation": "Ctrl-E",
    "itemize": "Ctrl-I"
   },
   "labels_anchors": false,
   "latex_user_defs": false,
   "report_style_numbering": false,
   "user_envs_cfg": false
  },
  "varInspector": {
   "cols": {
    "lenName": 16,
    "lenType": 16,
    "lenVar": 40
   },
   "kernels_config": {
    "python": {
     "delete_cmd_postfix": "",
     "delete_cmd_prefix": "del ",
     "library": "var_list.py",
     "varRefreshCmd": "print(var_dic_list())"
    },
    "r": {
     "delete_cmd_postfix": ") ",
     "delete_cmd_prefix": "rm(",
     "library": "var_list.r",
     "varRefreshCmd": "cat(var_dic_list()) "
    }
   },
   "types_to_exclude": [
    "module",
    "function",
    "builtin_function_or_method",
    "instance",
    "_Feature"
   ],
   "window_display": false
  }
 },
 "nbformat": 4,
 "nbformat_minor": 2
}
