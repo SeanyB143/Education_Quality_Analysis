{
 "cells": [
  {
   "cell_type": "markdown",
   "metadata": {},
   "source": [
    "> In this notebook, we import and format the world bank data for modeling. Features from this data serve to model both \"school resources\", and also \"learning outcomes\" via literacy rates."
   ]
  },
  {
   "cell_type": "code",
   "execution_count": 56,
   "metadata": {},
   "outputs": [],
   "source": [
    "import pandas as pd\n",
    "import numpy as np"
   ]
  },
  {
   "cell_type": "code",
   "execution_count": 57,
   "metadata": {},
   "outputs": [],
   "source": [
    "world_bank = pd.read_csv('../data/world_bank/API_4_DS2_en_csv_v2_103930.csv')"
   ]
  },
  {
   "cell_type": "code",
   "execution_count": 58,
   "metadata": {},
   "outputs": [],
   "source": [
    "countries = ['Albania', 'Algeria', 'Argentina', 'Australia', 'Austria', 'Belgium', 'Brazil',\n",
    "             'Bulgaria', 'Canada', 'Chile', 'China', 'Colombia', 'Costa Rica', 'Croatia',\n",
    "             'Cyprus', 'Czechia', 'Denmark', 'Dominican Republic', 'Estonia', 'Finland',\n",
    "             'France', 'Georgia', 'Germany', 'Greece', 'Hungary', 'Iceland', 'Indonesia',\n",
    "             'Ireland', 'Israel', 'Italy', 'Japan', 'Jordan', 'Kazakhstan', 'Latvia',\n",
    "             'Lebanon', 'Lithuania', 'Luxembourg', 'Malaysia', 'Malta', 'Mexico',\n",
    "             'Montenegro', 'Netherlands', 'New Zealand', 'North Macedonia', 'Norway',\n",
    "             'Peru', 'Poland', 'Portugal', 'Qatar', 'Republic of Korea', 'Republic of Moldova',\n",
    "             'Romania', 'Russian Federation', 'Singapore', 'Slovakia', 'Slovenia', 'Spain',\n",
    "             'Sweden', 'Switzerland', 'Thailand', 'Trinidad and Tobago', 'Tunisia', 'Turkey',\n",
    "             'United Arab Emirates', 'United Kingdom of Great Britain and Northern Ireland',\n",
    "             'United States of America', 'Uruguay', 'Viet Nam']"
   ]
  },
  {
   "cell_type": "code",
   "execution_count": 59,
   "metadata": {
    "scrolled": true
   },
   "outputs": [
    {
     "data": {
      "text/plain": [
       "['Czechia',\n",
       " 'Republic of Korea',\n",
       " 'Republic of Moldova',\n",
       " 'Slovakia',\n",
       " 'United Kingdom of Great Britain and Northern Ireland',\n",
       " 'United States of America',\n",
       " 'Viet Nam']"
      ]
     },
     "execution_count": 59,
     "metadata": {},
     "output_type": "execute_result"
    }
   ],
   "source": [
    "[country for country in countries if country not in world_bank['Country Name'].unique()]"
   ]
  },
  {
   "cell_type": "code",
   "execution_count": 60,
   "metadata": {},
   "outputs": [],
   "source": [
    "rename_dict = {'Czech Republic': 'Czechia',\n",
    "               'Korea, Rep.': 'Republic of Korea',\n",
    "               'Moldova': 'Republic of Moldova',\n",
    "               'Slovak Republic': 'Slovakia',\n",
    "               'United Kingdom':\n",
    "               'United Kingdom of Great Britain and Northern Ireland',\n",
    "               'United States': 'United States of America',\n",
    "               'Vietnam': 'Viet Nam'}"
   ]
  },
  {
   "cell_type": "code",
   "execution_count": 61,
   "metadata": {},
   "outputs": [],
   "source": [
    "for country in world_bank['Country Name']:\n",
    "    if country in rename_dict.keys():\n",
    "        world_bank.loc[world_bank['Country Name'] == country, 'Country Name'] = rename_dict[country]"
   ]
  },
  {
   "cell_type": "code",
   "execution_count": 62,
   "metadata": {
    "scrolled": true
   },
   "outputs": [
    {
     "data": {
      "text/plain": [
       "[]"
      ]
     },
     "execution_count": 62,
     "metadata": {},
     "output_type": "execute_result"
    }
   ],
   "source": [
    "[country for country in countries if country not in world_bank['Country Name'].unique()]"
   ]
  },
  {
   "cell_type": "code",
   "execution_count": 63,
   "metadata": {},
   "outputs": [
    {
     "data": {
      "text/plain": [
       "[2000, 2003, 2006, 2009, 2012, 2015]"
      ]
     },
     "execution_count": 63,
     "metadata": {},
     "output_type": "execute_result"
    }
   ],
   "source": [
    "years = [year for year in range(2000, 2016, 3)]\n",
    "years"
   ]
  },
  {
   "cell_type": "code",
   "execution_count": 64,
   "metadata": {},
   "outputs": [
    {
     "data": {
      "text/plain": [
       "Index(['Country Name', 'Country Code', 'Indicator Name', 'Indicator Code',\n",
       "       '1960', '1961', '1962', '1963', '1964', '1965', '1966', '1967', '1968',\n",
       "       '1969', '1970', '1971', '1972', '1973', '1974', '1975', '1976', '1977',\n",
       "       '1978', '1979', '1980', '1981', '1982', '1983', '1984', '1985', '1986',\n",
       "       '1987', '1988', '1989', '1990', '1991', '1992', '1993', '1994', '1995',\n",
       "       '1996', '1997', '1998', '1999', '2000', '2001', '2002', '2003', '2004',\n",
       "       '2005', '2006', '2007', '2008', '2009', '2010', '2011', '2012', '2013',\n",
       "       '2014', '2015', '2016', '2017', '2018', 'Unnamed: 63'],\n",
       "      dtype='object')"
      ]
     },
     "execution_count": 64,
     "metadata": {},
     "output_type": "execute_result"
    }
   ],
   "source": [
    "world_bank.columns"
   ]
  },
  {
   "cell_type": "code",
   "execution_count": 65,
   "metadata": {},
   "outputs": [
    {
     "data": {
      "text/plain": [
       "['Government expenditure on education, total (% of GDP)',\n",
       " 'Government expenditure on education, total (% of government expenditure)',\n",
       " 'Expenditure on tertiary education (% of government expenditure on education)',\n",
       " 'Government expenditure per student, tertiary (% of GDP per capita)',\n",
       " 'Expenditure on secondary education (% of government expenditure on education)',\n",
       " 'Government expenditure per student, secondary (% of GDP per capita)',\n",
       " 'Expenditure on primary education (% of government expenditure on education)',\n",
       " 'Government expenditure per student, primary (% of GDP per capita)',\n",
       " 'Current education expenditure, total (% of total expenditure in public institutions)',\n",
       " 'Current education expenditure, tertiary (% of total expenditure in tertiary public institutions)',\n",
       " 'Current education expenditure, secondary (% of total expenditure in secondary public institutions)',\n",
       " 'Current education expenditure, primary (% of total expenditure in primary public institutions)']"
      ]
     },
     "execution_count": 65,
     "metadata": {},
     "output_type": "execute_result"
    }
   ],
   "source": [
    "expenditure_features = [feature for feature in world_bank['Indicator Name'].unique()\n",
    "                        if 'xpenditure' in feature]\n",
    "expenditure_features"
   ]
  },
  {
   "cell_type": "code",
   "execution_count": 66,
   "metadata": {},
   "outputs": [
    {
     "data": {
      "text/plain": [
       "['Literacy rate, adult total (% of people ages 15 and above)',\n",
       " 'Literacy rate, youth total (% of people ages 15-24)']"
      ]
     },
     "execution_count": 66,
     "metadata": {},
     "output_type": "execute_result"
    }
   ],
   "source": [
    "literacy_features = [feature for feature in world_bank['Indicator Name'].unique()\n",
    "                        if 'iteracy' in feature]\n",
    "\n",
    "literacy_totals = literacy_features[0:1] + literacy_features[3:4]\n",
    "literacy_totals"
   ]
  },
  {
   "cell_type": "code",
   "execution_count": 67,
   "metadata": {},
   "outputs": [
    {
     "data": {
      "text/plain": [
       "['Government expenditure on education, total (% of GDP)',\n",
       " 'Government expenditure on education, total (% of government expenditure)',\n",
       " 'Expenditure on tertiary education (% of government expenditure on education)',\n",
       " 'Government expenditure per student, tertiary (% of GDP per capita)',\n",
       " 'Expenditure on secondary education (% of government expenditure on education)',\n",
       " 'Government expenditure per student, secondary (% of GDP per capita)',\n",
       " 'Expenditure on primary education (% of government expenditure on education)',\n",
       " 'Government expenditure per student, primary (% of GDP per capita)',\n",
       " 'Current education expenditure, total (% of total expenditure in public institutions)',\n",
       " 'Current education expenditure, tertiary (% of total expenditure in tertiary public institutions)',\n",
       " 'Current education expenditure, secondary (% of total expenditure in secondary public institutions)',\n",
       " 'Current education expenditure, primary (% of total expenditure in primary public institutions)',\n",
       " 'Literacy rate, adult total (% of people ages 15 and above)',\n",
       " 'Literacy rate, youth total (% of people ages 15-24)']"
      ]
     },
     "execution_count": 67,
     "metadata": {},
     "output_type": "execute_result"
    }
   ],
   "source": [
    "features = expenditure_features + literacy_totals\n",
    "features"
   ]
  },
  {
   "cell_type": "code",
   "execution_count": 68,
   "metadata": {},
   "outputs": [],
   "source": [
    "world_bank_df = pd.DataFrame(columns=features)\n",
    "for year in years:\n",
    "    for country in countries:\n",
    "        country_filter = (world_bank['Country Name'] == country)\n",
    "        \n",
    "        country_dict = {feature: 0 for feature in features}\n",
    "        index = [f\"{year}_{country}\"]\n",
    "        \n",
    "        for feature in features:\n",
    "            feature_filter = (world_bank['Indicator Name'] == feature)\n",
    "            \n",
    "            country_dict[feature] += world_bank[country_filter\n",
    "                                               & feature_filter][str(year)].values[0]\n",
    "            \n",
    "        country_df = pd.DataFrame(country_dict, index=index)\n",
    "        world_bank_df = pd.concat([world_bank_df, country_df])"
   ]
  },
  {
   "cell_type": "code",
   "execution_count": 69,
   "metadata": {},
   "outputs": [],
   "source": [
    "world_bank_df.to_csv('../data/world_bank/world_bank.csv', index_label='Year_Country')"
   ]
  }
 ],
 "metadata": {
  "kernelspec": {
   "display_name": "Python 3",
   "language": "python",
   "name": "python3"
  },
  "language_info": {
   "codemirror_mode": {
    "name": "ipython",
    "version": 3
   },
   "file_extension": ".py",
   "mimetype": "text/x-python",
   "name": "python",
   "nbconvert_exporter": "python",
   "pygments_lexer": "ipython3",
   "version": "3.6.9"
  },
  "latex_envs": {
   "LaTeX_envs_menu_present": true,
   "autoclose": false,
   "autocomplete": true,
   "bibliofile": "biblio.bib",
   "cite_by": "apalike",
   "current_citInitial": 1,
   "eqLabelWithNumbers": true,
   "eqNumInitial": 1,
   "hotkeys": {
    "equation": "Ctrl-E",
    "itemize": "Ctrl-I"
   },
   "labels_anchors": false,
   "latex_user_defs": false,
   "report_style_numbering": false,
   "user_envs_cfg": false
  },
  "varInspector": {
   "cols": {
    "lenName": 16,
    "lenType": 16,
    "lenVar": 40
   },
   "kernels_config": {
    "python": {
     "delete_cmd_postfix": "",
     "delete_cmd_prefix": "del ",
     "library": "var_list.py",
     "varRefreshCmd": "print(var_dic_list())"
    },
    "r": {
     "delete_cmd_postfix": ") ",
     "delete_cmd_prefix": "rm(",
     "library": "var_list.r",
     "varRefreshCmd": "cat(var_dic_list()) "
    }
   },
   "types_to_exclude": [
    "module",
    "function",
    "builtin_function_or_method",
    "instance",
    "_Feature"
   ],
   "window_display": false
  }
 },
 "nbformat": 4,
 "nbformat_minor": 2
}
