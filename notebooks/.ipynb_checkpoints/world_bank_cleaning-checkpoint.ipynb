{
 "cells": [
  {
   "cell_type": "code",
   "execution_count": 2,
   "metadata": {},
   "outputs": [],
   "source": [
    "import pandas as pd\n",
    "import numpy as np"
   ]
  },
  {
   "cell_type": "code",
   "execution_count": 3,
   "metadata": {},
   "outputs": [],
   "source": [
    "world_bank = pd.read_csv('../data/world_bank/API_4_DS2_en_csv_v2_103930.csv')\n",
    "variable_info = pd.read_csv('../data/world_bank/Metadata_Indicator_API_4_DS2_en_csv_v2_103930.csv')"
   ]
  },
  {
   "cell_type": "code",
   "execution_count": 46,
   "metadata": {},
   "outputs": [
    {
     "data": {
      "text/plain": [
       "(1000000, 9)"
      ]
     },
     "execution_count": 46,
     "metadata": {},
     "output_type": "execute_result"
    }
   ],
   "source": [
    "uis.shape"
   ]
  },
  {
   "cell_type": "code",
   "execution_count": 42,
   "metadata": {
    "scrolled": false
   },
   "outputs": [
    {
     "data": {
      "text/plain": [
       "array([2010, 2011, 2012, 2013, 2014, 2015, 2000, 2001, 2002, 2003, 2004,\n",
       "       2005, 2006, 2007, 2008, 2009])"
      ]
     },
     "execution_count": 42,
     "metadata": {},
     "output_type": "execute_result"
    }
   ],
   "source": [
    "uis[uis['Country'] == 'United States of America']['TIME'].unique()"
   ]
  },
  {
   "cell_type": "code",
   "execution_count": 30,
   "metadata": {},
   "outputs": [
    {
     "data": {
      "text/plain": [
       "Index(['EDULIT_IND', 'Indicator', 'LOCATION', 'Country', 'TIME', 'Time',\n",
       "       'Value', 'Flag Codes', 'Flags'],\n",
       "      dtype='object')"
      ]
     },
     "execution_count": 30,
     "metadata": {},
     "output_type": "execute_result"
    }
   ],
   "source": [
    "uis.columns"
   ]
  },
  {
   "cell_type": "code",
   "execution_count": 45,
   "metadata": {},
   "outputs": [
    {
     "data": {
      "text/plain": [
       "array(['Australia', 'Austria', 'Belgium', 'Czechia', 'Denmark', 'Finland',\n",
       "       'France', 'Germany', 'Greece', 'Hungary', 'Iceland', 'Ireland',\n",
       "       'Italy', 'Japan', 'Republic of Korea', 'Luxembourg', 'Mexico',\n",
       "       'Netherlands', 'New Zealand', 'Norway', 'Poland', 'Portugal',\n",
       "       'Slovakia', 'Spain', 'Sweden', 'Switzerland', 'Turkey',\n",
       "       'United Kingdom of Great Britain and Northern Ireland',\n",
       "       'United States of America', 'Albania', 'Algeria', 'Argentina',\n",
       "       'Brazil', 'Bulgaria', 'Chile', 'China', 'Colombia', 'Costa Rica',\n",
       "       'Croatia', 'Cyprus', 'Dominican Republic', 'Estonia', 'Georgia',\n",
       "       'Indonesia', 'Israel', 'Jordan', 'Kazakhstan', 'Latvia', 'Lebanon',\n",
       "       'Lithuania', 'North Macedonia', 'Malaysia', 'Malta',\n",
       "       'Republic of Moldova', 'Peru', 'Qatar', 'Romania',\n",
       "       'Russian Federation', 'Slovenia', 'Thailand',\n",
       "       'Trinidad and Tobago', 'Tunisia', 'United Arab Emirates',\n",
       "       'Uruguay', 'Viet Nam', 'Montenegro', 'Canada', 'Singapore'],\n",
       "      dtype=object)"
      ]
     },
     "execution_count": 45,
     "metadata": {},
     "output_type": "execute_result"
    }
   ],
   "source": [
    "uis['Country'].unique()"
   ]
  },
  {
   "cell_type": "code",
   "execution_count": 3,
   "metadata": {},
   "outputs": [
    {
     "data": {
      "text/html": [
       "<div>\n",
       "<style scoped>\n",
       "    .dataframe tbody tr th:only-of-type {\n",
       "        vertical-align: middle;\n",
       "    }\n",
       "\n",
       "    .dataframe tbody tr th {\n",
       "        vertical-align: top;\n",
       "    }\n",
       "\n",
       "    .dataframe thead th {\n",
       "        text-align: right;\n",
       "    }\n",
       "</style>\n",
       "<table border=\"1\" class=\"dataframe\">\n",
       "  <thead>\n",
       "    <tr style=\"text-align: right;\">\n",
       "      <th></th>\n",
       "      <th>0</th>\n",
       "      <th>1</th>\n",
       "      <th>2</th>\n",
       "      <th>3</th>\n",
       "      <th>4</th>\n",
       "      <th>5</th>\n",
       "      <th>6</th>\n",
       "      <th>7</th>\n",
       "      <th>8</th>\n",
       "      <th>9</th>\n",
       "      <th>...</th>\n",
       "      <th>26</th>\n",
       "      <th>27</th>\n",
       "      <th>28</th>\n",
       "      <th>29</th>\n",
       "      <th>30</th>\n",
       "      <th>31</th>\n",
       "      <th>32</th>\n",
       "      <th>33</th>\n",
       "      <th>34</th>\n",
       "      <th>35</th>\n",
       "    </tr>\n",
       "  </thead>\n",
       "  <tbody>\n",
       "    <tr>\n",
       "      <th>Unnamed: 0</th>\n",
       "      <td>2015_mean_math</td>\n",
       "      <td>2012_mean_math</td>\n",
       "      <td>2009_mean_math</td>\n",
       "      <td>2006_mean_math</td>\n",
       "      <td>2003_mean_math</td>\n",
       "      <td>2000_mean_math</td>\n",
       "      <td>2015_std_math</td>\n",
       "      <td>2012_std_math</td>\n",
       "      <td>2009_std_math</td>\n",
       "      <td>2006_std_math</td>\n",
       "      <td>...</td>\n",
       "      <td>2009_mean_science</td>\n",
       "      <td>2006_mean_science</td>\n",
       "      <td>2003_mean_science</td>\n",
       "      <td>2000_mean_science</td>\n",
       "      <td>2015_std_science</td>\n",
       "      <td>2012_std_science</td>\n",
       "      <td>2009_std_science</td>\n",
       "      <td>2006_std_science</td>\n",
       "      <td>2003_std_science</td>\n",
       "      <td>2000_std_science</td>\n",
       "    </tr>\n",
       "    <tr>\n",
       "      <th>Albania</th>\n",
       "      <td>NaN</td>\n",
       "      <td>394</td>\n",
       "      <td>377</td>\n",
       "      <td>NaN</td>\n",
       "      <td>NaN</td>\n",
       "      <td>NaN</td>\n",
       "      <td>NaN</td>\n",
       "      <td>2</td>\n",
       "      <td>4</td>\n",
       "      <td>NaN</td>\n",
       "      <td>...</td>\n",
       "      <td>NaN</td>\n",
       "      <td>NaN</td>\n",
       "      <td>NaN</td>\n",
       "      <td>NaN</td>\n",
       "      <td>NaN</td>\n",
       "      <td>NaN</td>\n",
       "      <td>NaN</td>\n",
       "      <td>NaN</td>\n",
       "      <td>NaN</td>\n",
       "      <td>NaN</td>\n",
       "    </tr>\n",
       "    <tr>\n",
       "      <th>Algeria</th>\n",
       "      <td>360</td>\n",
       "      <td>NaN</td>\n",
       "      <td>NaN</td>\n",
       "      <td>NaN</td>\n",
       "      <td>NaN</td>\n",
       "      <td>NaN</td>\n",
       "      <td>3</td>\n",
       "      <td>NaN</td>\n",
       "      <td>NaN</td>\n",
       "      <td>NaN</td>\n",
       "      <td>...</td>\n",
       "      <td>NaN</td>\n",
       "      <td>NaN</td>\n",
       "      <td>NaN</td>\n",
       "      <td>NaN</td>\n",
       "      <td>NaN</td>\n",
       "      <td>NaN</td>\n",
       "      <td>NaN</td>\n",
       "      <td>NaN</td>\n",
       "      <td>NaN</td>\n",
       "      <td>NaN</td>\n",
       "    </tr>\n",
       "    <tr>\n",
       "      <th>Australia</th>\n",
       "      <td>494</td>\n",
       "      <td>504</td>\n",
       "      <td>514</td>\n",
       "      <td>520</td>\n",
       "      <td>524</td>\n",
       "      <td>NaN</td>\n",
       "      <td>1.6</td>\n",
       "      <td>1.6</td>\n",
       "      <td>2.5</td>\n",
       "      <td>2.2</td>\n",
       "      <td>...</td>\n",
       "      <td>527</td>\n",
       "      <td>527</td>\n",
       "      <td>NaN</td>\n",
       "      <td>NaN</td>\n",
       "      <td>1.5</td>\n",
       "      <td>1.8</td>\n",
       "      <td>2.5</td>\n",
       "      <td>2.3</td>\n",
       "      <td>NaN</td>\n",
       "      <td>NaN</td>\n",
       "    </tr>\n",
       "    <tr>\n",
       "      <th>Austria</th>\n",
       "      <td>497</td>\n",
       "      <td>506</td>\n",
       "      <td>496</td>\n",
       "      <td>505</td>\n",
       "      <td>506</td>\n",
       "      <td>NaN</td>\n",
       "      <td>2.9</td>\n",
       "      <td>2.7</td>\n",
       "      <td>2.7</td>\n",
       "      <td>3.7</td>\n",
       "      <td>...</td>\n",
       "      <td>494</td>\n",
       "      <td>511</td>\n",
       "      <td>NaN</td>\n",
       "      <td>NaN</td>\n",
       "      <td>2.4</td>\n",
       "      <td>2.7</td>\n",
       "      <td>3.2</td>\n",
       "      <td>3.9</td>\n",
       "      <td>NaN</td>\n",
       "      <td>NaN</td>\n",
       "    </tr>\n",
       "  </tbody>\n",
       "</table>\n",
       "<p>5 rows × 36 columns</p>\n",
       "</div>"
      ],
      "text/plain": [
       "                        0               1               2               3   \\\n",
       "Unnamed: 0  2015_mean_math  2012_mean_math  2009_mean_math  2006_mean_math   \n",
       "Albania                NaN             394             377             NaN   \n",
       "Algeria                360             NaN             NaN             NaN   \n",
       "Australia              494             504             514             520   \n",
       "Austria                497             506             496             505   \n",
       "\n",
       "                        4               5              6              7   \\\n",
       "Unnamed: 0  2003_mean_math  2000_mean_math  2015_std_math  2012_std_math   \n",
       "Albania                NaN             NaN            NaN              2   \n",
       "Algeria                NaN             NaN              3            NaN   \n",
       "Australia              524             NaN            1.6            1.6   \n",
       "Austria                506             NaN            2.9            2.7   \n",
       "\n",
       "                       8              9   ...                 26  \\\n",
       "Unnamed: 0  2009_std_math  2006_std_math  ...  2009_mean_science   \n",
       "Albania                 4            NaN  ...                NaN   \n",
       "Algeria               NaN            NaN  ...                NaN   \n",
       "Australia             2.5            2.2  ...                527   \n",
       "Austria               2.7            3.7  ...                494   \n",
       "\n",
       "                           27                 28                 29  \\\n",
       "Unnamed: 0  2006_mean_science  2003_mean_science  2000_mean_science   \n",
       "Albania                   NaN                NaN                NaN   \n",
       "Algeria                   NaN                NaN                NaN   \n",
       "Australia                 527                NaN                NaN   \n",
       "Austria                   511                NaN                NaN   \n",
       "\n",
       "                          30                31                32  \\\n",
       "Unnamed: 0  2015_std_science  2012_std_science  2009_std_science   \n",
       "Albania                  NaN               NaN               NaN   \n",
       "Algeria                  NaN               NaN               NaN   \n",
       "Australia                1.5               1.8               2.5   \n",
       "Austria                  2.4               2.7               3.2   \n",
       "\n",
       "                          33                34                35  \n",
       "Unnamed: 0  2006_std_science  2003_std_science  2000_std_science  \n",
       "Albania                  NaN               NaN               NaN  \n",
       "Algeria                  NaN               NaN               NaN  \n",
       "Australia                2.3               NaN               NaN  \n",
       "Austria                  3.9               NaN               NaN  \n",
       "\n",
       "[5 rows x 36 columns]"
      ]
     },
     "execution_count": 3,
     "metadata": {},
     "output_type": "execute_result"
    }
   ],
   "source": [
    "pisa.T.head()"
   ]
  },
  {
   "cell_type": "markdown",
   "metadata": {},
   "source": [
    "pisa.isna().sum()"
   ]
  },
  {
   "cell_type": "markdown",
   "metadata": {},
   "source": [
    "names = ['Country Name', 'Indicator Name']\n",
    "years_of_interest = [str(year) for year in range(2000, 2016, 3)]\n",
    "years_of_interest"
   ]
  },
  {
   "cell_type": "markdown",
   "metadata": {},
   "source": [
    "world_bank[names + years_of_interest]"
   ]
  },
  {
   "cell_type": "code",
   "execution_count": 4,
   "metadata": {
    "scrolled": true
   },
   "outputs": [
    {
     "data": {
      "text/plain": [
       "array(['Population ages 15-64 (% of total population)',\n",
       "       'Population ages 0-14 (% of total population)',\n",
       "       'Unemployment, total (% of total labor force) (modeled ILO estimate)',\n",
       "       'Unemployment, male (% of male labor force) (modeled ILO estimate)',\n",
       "       'Unemployment, female (% of female labor force) (modeled ILO estimate)',\n",
       "       'Labor force, total',\n",
       "       'Labor force, female (% of total labor force)',\n",
       "       'Government expenditure on education, total (% of GDP)',\n",
       "       'Government expenditure on education, total (% of government expenditure)',\n",
       "       'Expenditure on tertiary education (% of government expenditure on education)',\n",
       "       'Government expenditure per student, tertiary (% of GDP per capita)',\n",
       "       'Expenditure on secondary education (% of government expenditure on education)',\n",
       "       'Government expenditure per student, secondary (% of GDP per capita)',\n",
       "       'Expenditure on primary education (% of government expenditure on education)',\n",
       "       'Government expenditure per student, primary (% of GDP per capita)',\n",
       "       'Current education expenditure, total (% of total expenditure in public institutions)',\n",
       "       'Current education expenditure, tertiary (% of total expenditure in tertiary public institutions)',\n",
       "       'Current education expenditure, secondary (% of total expenditure in secondary public institutions)',\n",
       "       'Current education expenditure, primary (% of total expenditure in primary public institutions)',\n",
       "       'Tertiary education, academic staff (% female)',\n",
       "       'School enrollment, tertiary, male (% gross)',\n",
       "       'School enrollment, tertiary, female (% gross)',\n",
       "       'School enrollment, tertiary (% gross)',\n",
       "       'Pupil-teacher ratio, tertiary',\n",
       "       'Educational attainment, at least completed short-cycle tertiary, population 25+, total (%) (cumulative)',\n",
       "       'Educational attainment, at least completed short-cycle tertiary, population 25+, male (%) (cumulative)',\n",
       "       'Educational attainment, at least completed short-cycle tertiary, population 25+, female (%) (cumulative)',\n",
       "       \"Educational attainment, at least Master's or equivalent, population 25+, total (%) (cumulative)\",\n",
       "       \"Educational attainment, at least Master's or equivalent, population 25+, male (%) (cumulative)\",\n",
       "       \"Educational attainment, at least Master's or equivalent, population 25+, female (%) (cumulative)\",\n",
       "       'Educational attainment, Doctoral or equivalent, population 25+, total (%) (cumulative)',\n",
       "       'Educational attainment, Doctoral or equivalent, population 25+, male (%) (cumulative)',\n",
       "       'Educational attainment, Doctoral or equivalent, population 25+, female (%) (cumulative)',\n",
       "       \"Educational attainment, at least Bachelor's or equivalent, population 25+, total (%) (cumulative)\",\n",
       "       \"Educational attainment, at least Bachelor's or equivalent, population 25+, male (%) (cumulative)\",\n",
       "       \"Educational attainment, at least Bachelor's or equivalent, population 25+, female (%) (cumulative)\",\n",
       "       'Adolescents out of school (% of lower secondary school age)',\n",
       "       'Adolescents out of school, male (% of male lower secondary school age)',\n",
       "       'Adolescents out of school, female (% of female lower secondary school age)',\n",
       "       'Secondary education, teachers (% female)',\n",
       "       'Secondary education, teachers, female',\n",
       "       'Secondary education, teachers',\n",
       "       'Trained teachers in secondary education (% of total teachers)',\n",
       "       'Trained teachers in upper secondary education (% of total teachers)',\n",
       "       'Trained teachers in upper secondary education, male (% of male teachers)',\n",
       "       'Trained teachers in upper secondary education, female (% of female teachers)',\n",
       "       'Trained teachers in secondary education, male (% of male teachers)',\n",
       "       'Trained teachers in lower secondary education (% of total teachers)',\n",
       "       'Trained teachers in lower secondary education, male (% of male teachers)',\n",
       "       'Trained teachers in lower secondary education, female (% of female teachers)',\n",
       "       'Trained teachers in secondary education, female (% of female teachers)',\n",
       "       'Progression to secondary school (%)',\n",
       "       'Progression to secondary school, male (%)',\n",
       "       'Progression to secondary school, female (%)',\n",
       "       'School enrollment, secondary, private (% of total secondary)',\n",
       "       'School enrollment, secondary, male (% net)',\n",
       "       'School enrollment, secondary, female (% net)',\n",
       "       'School enrollment, secondary (% net)',\n",
       "       'School enrollment, secondary, male (% gross)',\n",
       "       'School enrollment, secondary, female (% gross)',\n",
       "       'School enrollment, secondary (% gross)',\n",
       "       'Secondary education, vocational pupils (% female)',\n",
       "       'Secondary education, vocational pupils',\n",
       "       'Pupil-teacher ratio, upper secondary',\n",
       "       'Pupil-teacher ratio, secondary',\n",
       "       'Pupil-teacher ratio, lower secondary',\n",
       "       'Secondary education, general pupils (% female)',\n",
       "       'Secondary education, general pupils',\n",
       "       'Secondary education, pupils (% female)',\n",
       "       'Secondary education, pupils',\n",
       "       'Secondary education, duration (years)',\n",
       "       'Educational attainment, at least completed upper secondary, population 25+, total (%) (cumulative)',\n",
       "       'Educational attainment, at least completed upper secondary, population 25+, male (%) (cumulative)',\n",
       "       'Educational attainment, at least completed upper secondary, population 25+, female (%) (cumulative)',\n",
       "       'Educational attainment, at least completed post-secondary, population 25+, total (%) (cumulative)',\n",
       "       'Educational attainment, at least completed post-secondary, population 25+, male (%) (cumulative)',\n",
       "       'Educational attainment, at least completed post-secondary, population 25+, female (%) (cumulative)',\n",
       "       'Educational attainment, at least completed lower secondary, population 25+, total (%) (cumulative)',\n",
       "       'Educational attainment, at least completed lower secondary, population 25+, male (%) (cumulative)',\n",
       "       'Educational attainment, at least completed lower secondary, population 25+, female (%) (cumulative)',\n",
       "       'Lower secondary completion rate, total (% of relevant age group)',\n",
       "       'Lower secondary completion rate, male (% of relevant age group)',\n",
       "       'Lower secondary completion rate, female (% of relevant age group)',\n",
       "       'Lower secondary school starting age (years)',\n",
       "       'Children out of school (% of primary school age)',\n",
       "       'Children out of school, male (% of male primary school age)',\n",
       "       'Children out of school, primary, male',\n",
       "       'Children out of school, female (% of female primary school age)',\n",
       "       'Children out of school, primary, female',\n",
       "       'Children out of school, primary',\n",
       "       'Adjusted net enrollment rate, primary, male (% of primary school age children)',\n",
       "       'Adjusted net enrollment rate, primary, female (% of primary school age children)',\n",
       "       'Adjusted net enrollment rate, primary (% of primary school age children)',\n",
       "       'Primary education, teachers (% female)',\n",
       "       'Primary education, teachers',\n",
       "       'Trained teachers in primary education (% of total teachers)',\n",
       "       'Trained teachers in primary education, male (% of male teachers)',\n",
       "       'Trained teachers in primary education, female (% of female teachers)',\n",
       "       'Repeaters, primary, total (% of total enrollment)',\n",
       "       'Repeaters, primary, male (% of male enrollment)',\n",
       "       'Repeaters, primary, female (% of female enrollment)',\n",
       "       'Persistence to last grade of primary, total (% of cohort)',\n",
       "       'Persistence to last grade of primary, male (% of cohort)',\n",
       "       'Persistence to last grade of primary, female (% of cohort)',\n",
       "       'Persistence to grade 5, total (% of cohort)',\n",
       "       'Persistence to grade 5, male (% of cohort)',\n",
       "       'Persistence to grade 5, female (% of cohort)',\n",
       "       'School enrollment, primary, private (% of total primary)',\n",
       "       'Over-age students, primary (% of enrollment)',\n",
       "       'Over-age students, primary, male (% of male enrollment)',\n",
       "       'Over-age students, primary, female (% of female enrollment)',\n",
       "       'Net intake rate in grade 1 (% of official school-age population)',\n",
       "       'Net intake rate in grade 1, male (% of official school-age population)',\n",
       "       'Net intake rate in grade 1, female (% of official school-age population)',\n",
       "       'School enrollment, primary, male (% net)',\n",
       "       'School enrollment, primary, female (% net)',\n",
       "       'School enrollment, primary (% net)',\n",
       "       'Gross intake ratio in first grade of primary education, total (% of relevant age group)',\n",
       "       'Gross intake ratio in first grade of primary education, male (% of relevant age group)',\n",
       "       'Gross intake ratio in first grade of primary education, female (% of relevant age group)',\n",
       "       'School enrollment, primary, male (% gross)',\n",
       "       'School enrollment, primary, female (% gross)',\n",
       "       'School enrollment, primary (% gross)',\n",
       "       'Pupil-teacher ratio, primary',\n",
       "       'Primary education, pupils (% female)',\n",
       "       'Primary education, pupils', 'Primary education, duration (years)',\n",
       "       'Educational attainment, at least completed primary, population 25+ years, total (%) (cumulative)',\n",
       "       'Educational attainment, at least completed primary, population 25+ years, male (%) (cumulative)',\n",
       "       'Educational attainment, at least completed primary, population 25+ years, female (%) (cumulative)',\n",
       "       'Primary completion rate, total (% of relevant age group)',\n",
       "       'Primary completion rate, male (% of relevant age group)',\n",
       "       'Primary completion rate, female (% of relevant age group)',\n",
       "       'Primary school starting age (years)',\n",
       "       'Trained teachers in preprimary education (% of total teachers)',\n",
       "       'Trained teachers in preprimary education, male (% of male teachers)',\n",
       "       'Trained teachers in preprimary education, female (% of female teachers)',\n",
       "       'School enrollment, preprimary, male (% gross)',\n",
       "       'School enrollment, preprimary, female (% gross)',\n",
       "       'School enrollment, preprimary (% gross)',\n",
       "       'Pupil-teacher ratio, preprimary',\n",
       "       'Preprimary education, duration (years)',\n",
       "       'School enrollment, tertiary (gross), gender parity index (GPI)',\n",
       "       'School enrollment, secondary (gross), gender parity index (GPI)',\n",
       "       'School enrollment, primary and secondary (gross), gender parity index (GPI)',\n",
       "       'School enrollment, primary (gross), gender parity index (GPI)',\n",
       "       'Compulsory education, duration (years)',\n",
       "       'Literacy rate, adult total (% of people ages 15 and above)',\n",
       "       'Literacy rate, adult male (% of males ages 15 and above)',\n",
       "       'Literacy rate, adult female (% of females ages 15 and above)',\n",
       "       'Literacy rate, youth total (% of people ages 15-24)',\n",
       "       'Literacy rate, youth male (% of males ages 15-24)',\n",
       "       'Literacy rate, youth (ages 15-24), gender parity index (GPI)',\n",
       "       'Literacy rate, youth female (% of females ages 15-24)'],\n",
       "      dtype=object)"
      ]
     },
     "execution_count": 4,
     "metadata": {},
     "output_type": "execute_result"
    }
   ],
   "source": [
    "world_bank['Indicator Name'].unique()"
   ]
  },
  {
   "cell_type": "code",
   "execution_count": 22,
   "metadata": {},
   "outputs": [
    {
     "name": "stdout",
     "output_type": "stream",
     "text": [
      "nan\n",
      "72.6627426147461\n",
      "102.813690185547\n",
      "100.299911499023\n",
      "93.8973007202148\n",
      "97.6525421142578\n",
      "91.2715606689453\n",
      "88.88941192626949\n",
      "94.60022735595699\n"
     ]
    }
   ],
   "source": [
    "features = ['Literacy rate, youth total (% of people ages 15-24)',\n",
    "            'Net intake rate in grade 1 (% of official school-age population)',\n",
    "            'Gross intake ratio in first grade of primary education, total (% of relevant age group)',\n",
    "            'School enrollment, primary (% gross)',\n",
    "            'School enrollment, primary (% net)',\n",
    "            'School enrollment, secondary (% gross)',\n",
    "            'School enrollment, secondary (% net)',\n",
    "            'School enrollment, tertiary (% gross)',\n",
    "            'Adjusted net enrollment rate, primary (% of primary school age children)']\n",
    "countries = 'United States'\n",
    "for i in range(len(features)):\n",
    "    print(world_bank[(world_bank['Indicator Name'] == features[i])\n",
    "           & (world_bank['Country Name'] == countries)]['2015'].mean())"
   ]
  },
  {
   "cell_type": "code",
   "execution_count": 26,
   "metadata": {},
   "outputs": [
    {
     "ename": "KeyError",
     "evalue": "'Country Name'",
     "output_type": "error",
     "traceback": [
      "\u001b[0;31m---------------------------------------------------------------------------\u001b[0m",
      "\u001b[0;31mKeyError\u001b[0m                                  Traceback (most recent call last)",
      "\u001b[0;32m/anaconda3/lib/python3.6/site-packages/pandas/core/indexes/base.py\u001b[0m in \u001b[0;36mget_loc\u001b[0;34m(self, key, method, tolerance)\u001b[0m\n\u001b[1;32m   2889\u001b[0m             \u001b[0;32mtry\u001b[0m\u001b[0;34m:\u001b[0m\u001b[0;34m\u001b[0m\u001b[0;34m\u001b[0m\u001b[0m\n\u001b[0;32m-> 2890\u001b[0;31m                 \u001b[0;32mreturn\u001b[0m \u001b[0mself\u001b[0m\u001b[0;34m.\u001b[0m\u001b[0m_engine\u001b[0m\u001b[0;34m.\u001b[0m\u001b[0mget_loc\u001b[0m\u001b[0;34m(\u001b[0m\u001b[0mkey\u001b[0m\u001b[0;34m)\u001b[0m\u001b[0;34m\u001b[0m\u001b[0;34m\u001b[0m\u001b[0m\n\u001b[0m\u001b[1;32m   2891\u001b[0m             \u001b[0;32mexcept\u001b[0m \u001b[0mKeyError\u001b[0m\u001b[0;34m:\u001b[0m\u001b[0;34m\u001b[0m\u001b[0;34m\u001b[0m\u001b[0m\n",
      "\u001b[0;32mpandas/_libs/index.pyx\u001b[0m in \u001b[0;36mpandas._libs.index.IndexEngine.get_loc\u001b[0;34m()\u001b[0m\n",
      "\u001b[0;32mpandas/_libs/index.pyx\u001b[0m in \u001b[0;36mpandas._libs.index.IndexEngine.get_loc\u001b[0;34m()\u001b[0m\n",
      "\u001b[0;32mpandas/_libs/index_class_helper.pxi\u001b[0m in \u001b[0;36mpandas._libs.index.Int64Engine._check_type\u001b[0;34m()\u001b[0m\n",
      "\u001b[0;31mKeyError\u001b[0m: 'Country Name'",
      "\nDuring handling of the above exception, another exception occurred:\n",
      "\u001b[0;31mKeyError\u001b[0m                                  Traceback (most recent call last)",
      "\u001b[0;32m<ipython-input-26-3b9da481cf0a>\u001b[0m in \u001b[0;36m<module>\u001b[0;34m\u001b[0m\n\u001b[1;32m      3\u001b[0m     \u001b[0;32mfor\u001b[0m \u001b[0mrow\u001b[0m \u001b[0;32min\u001b[0m \u001b[0mworld_bank\u001b[0m\u001b[0;34m[\u001b[0m\u001b[0mworld_bank\u001b[0m\u001b[0;34m[\u001b[0m\u001b[0;34m'Indicator Name'\u001b[0m\u001b[0;34m]\u001b[0m \u001b[0;34m==\u001b[0m \u001b[0mfeature\u001b[0m\u001b[0;34m]\u001b[0m\u001b[0;34m:\u001b[0m\u001b[0;34m\u001b[0m\u001b[0;34m\u001b[0m\u001b[0m\n\u001b[1;32m      4\u001b[0m         \u001b[0;32mfor\u001b[0m \u001b[0mcolumn\u001b[0m \u001b[0;32min\u001b[0m \u001b[0mworld_bank\u001b[0m\u001b[0;34m[\u001b[0m\u001b[0mworld_bank\u001b[0m\u001b[0;34m[\u001b[0m\u001b[0;34m'Indicator Name'\u001b[0m\u001b[0;34m]\u001b[0m \u001b[0;34m==\u001b[0m \u001b[0mfeature\u001b[0m\u001b[0;34m]\u001b[0m\u001b[0;34m.\u001b[0m\u001b[0mcolumns\u001b[0m\u001b[0;34m:\u001b[0m\u001b[0;34m\u001b[0m\u001b[0;34m\u001b[0m\u001b[0m\n\u001b[0;32m----> 5\u001b[0;31m             \u001b[0;32mif\u001b[0m \u001b[0mworld_bank\u001b[0m\u001b[0;34m[\u001b[0m\u001b[0mworld_bank\u001b[0m\u001b[0;34m[\u001b[0m\u001b[0;34m'Indicator Name'\u001b[0m\u001b[0;34m]\u001b[0m \u001b[0;34m==\u001b[0m \u001b[0mfeature\u001b[0m\u001b[0;34m]\u001b[0m\u001b[0;34m.\u001b[0m\u001b[0mloc\u001b[0m\u001b[0;34m[\u001b[0m\u001b[0mrow\u001b[0m\u001b[0;34m,\u001b[0m \u001b[0mcolumn\u001b[0m\u001b[0;34m]\u001b[0m\u001b[0;34m[\u001b[0m\u001b[0;36m0\u001b[0m\u001b[0;34m]\u001b[0m\u001b[0;34m.\u001b[0m\u001b[0misna\u001b[0m\u001b[0;34m(\u001b[0m\u001b[0;34m)\u001b[0m \u001b[0;34m==\u001b[0m \u001b[0;32mTrue\u001b[0m\u001b[0;34m:\u001b[0m\u001b[0;34m\u001b[0m\u001b[0;34m\u001b[0m\u001b[0m\n\u001b[0m\u001b[1;32m      6\u001b[0m                 \u001b[0mnulls\u001b[0m \u001b[0;34m+=\u001b[0m \u001b[0;36m1\u001b[0m\u001b[0;34m\u001b[0m\u001b[0;34m\u001b[0m\u001b[0m\n\u001b[1;32m      7\u001b[0m     \u001b[0mprint\u001b[0m\u001b[0;34m(\u001b[0m\u001b[0mnulls\u001b[0m\u001b[0;34m)\u001b[0m\u001b[0;34m\u001b[0m\u001b[0;34m\u001b[0m\u001b[0m\n",
      "\u001b[0;32m/anaconda3/lib/python3.6/site-packages/pandas/core/indexing.py\u001b[0m in \u001b[0;36m__getitem__\u001b[0;34m(self, key)\u001b[0m\n\u001b[1;32m   1402\u001b[0m                 \u001b[0;32mexcept\u001b[0m \u001b[0;34m(\u001b[0m\u001b[0mKeyError\u001b[0m\u001b[0;34m,\u001b[0m \u001b[0mIndexError\u001b[0m\u001b[0;34m,\u001b[0m \u001b[0mAttributeError\u001b[0m\u001b[0;34m)\u001b[0m\u001b[0;34m:\u001b[0m\u001b[0;34m\u001b[0m\u001b[0;34m\u001b[0m\u001b[0m\n\u001b[1;32m   1403\u001b[0m                     \u001b[0;32mpass\u001b[0m\u001b[0;34m\u001b[0m\u001b[0;34m\u001b[0m\u001b[0m\n\u001b[0;32m-> 1404\u001b[0;31m             \u001b[0;32mreturn\u001b[0m \u001b[0mself\u001b[0m\u001b[0;34m.\u001b[0m\u001b[0m_getitem_tuple\u001b[0m\u001b[0;34m(\u001b[0m\u001b[0mkey\u001b[0m\u001b[0;34m)\u001b[0m\u001b[0;34m\u001b[0m\u001b[0;34m\u001b[0m\u001b[0m\n\u001b[0m\u001b[1;32m   1405\u001b[0m         \u001b[0;32melse\u001b[0m\u001b[0;34m:\u001b[0m\u001b[0;34m\u001b[0m\u001b[0;34m\u001b[0m\u001b[0m\n\u001b[1;32m   1406\u001b[0m             \u001b[0;31m# we by definition only have the 0th axis\u001b[0m\u001b[0;34m\u001b[0m\u001b[0;34m\u001b[0m\u001b[0;34m\u001b[0m\u001b[0m\n",
      "\u001b[0;32m/anaconda3/lib/python3.6/site-packages/pandas/core/indexing.py\u001b[0m in \u001b[0;36m_getitem_tuple\u001b[0;34m(self, tup)\u001b[0m\n\u001b[1;32m    789\u001b[0m     \u001b[0;32mdef\u001b[0m \u001b[0m_getitem_tuple\u001b[0m\u001b[0;34m(\u001b[0m\u001b[0mself\u001b[0m\u001b[0;34m,\u001b[0m \u001b[0mtup\u001b[0m\u001b[0;34m)\u001b[0m\u001b[0;34m:\u001b[0m\u001b[0;34m\u001b[0m\u001b[0;34m\u001b[0m\u001b[0m\n\u001b[1;32m    790\u001b[0m         \u001b[0;32mtry\u001b[0m\u001b[0;34m:\u001b[0m\u001b[0;34m\u001b[0m\u001b[0;34m\u001b[0m\u001b[0m\n\u001b[0;32m--> 791\u001b[0;31m             \u001b[0;32mreturn\u001b[0m \u001b[0mself\u001b[0m\u001b[0;34m.\u001b[0m\u001b[0m_getitem_lowerdim\u001b[0m\u001b[0;34m(\u001b[0m\u001b[0mtup\u001b[0m\u001b[0;34m)\u001b[0m\u001b[0;34m\u001b[0m\u001b[0;34m\u001b[0m\u001b[0m\n\u001b[0m\u001b[1;32m    792\u001b[0m         \u001b[0;32mexcept\u001b[0m \u001b[0mIndexingError\u001b[0m\u001b[0;34m:\u001b[0m\u001b[0;34m\u001b[0m\u001b[0;34m\u001b[0m\u001b[0m\n\u001b[1;32m    793\u001b[0m             \u001b[0;32mpass\u001b[0m\u001b[0;34m\u001b[0m\u001b[0;34m\u001b[0m\u001b[0m\n",
      "\u001b[0;32m/anaconda3/lib/python3.6/site-packages/pandas/core/indexing.py\u001b[0m in \u001b[0;36m_getitem_lowerdim\u001b[0;34m(self, tup)\u001b[0m\n\u001b[1;32m    913\u001b[0m         \u001b[0;32mfor\u001b[0m \u001b[0mi\u001b[0m\u001b[0;34m,\u001b[0m \u001b[0mkey\u001b[0m \u001b[0;32min\u001b[0m \u001b[0menumerate\u001b[0m\u001b[0;34m(\u001b[0m\u001b[0mtup\u001b[0m\u001b[0;34m)\u001b[0m\u001b[0;34m:\u001b[0m\u001b[0;34m\u001b[0m\u001b[0;34m\u001b[0m\u001b[0m\n\u001b[1;32m    914\u001b[0m             \u001b[0;32mif\u001b[0m \u001b[0mis_label_like\u001b[0m\u001b[0;34m(\u001b[0m\u001b[0mkey\u001b[0m\u001b[0;34m)\u001b[0m \u001b[0;32mor\u001b[0m \u001b[0misinstance\u001b[0m\u001b[0;34m(\u001b[0m\u001b[0mkey\u001b[0m\u001b[0;34m,\u001b[0m \u001b[0mtuple\u001b[0m\u001b[0;34m)\u001b[0m\u001b[0;34m:\u001b[0m\u001b[0;34m\u001b[0m\u001b[0;34m\u001b[0m\u001b[0m\n\u001b[0;32m--> 915\u001b[0;31m                 \u001b[0msection\u001b[0m \u001b[0;34m=\u001b[0m \u001b[0mself\u001b[0m\u001b[0;34m.\u001b[0m\u001b[0m_getitem_axis\u001b[0m\u001b[0;34m(\u001b[0m\u001b[0mkey\u001b[0m\u001b[0;34m,\u001b[0m \u001b[0maxis\u001b[0m\u001b[0;34m=\u001b[0m\u001b[0mi\u001b[0m\u001b[0;34m)\u001b[0m\u001b[0;34m\u001b[0m\u001b[0;34m\u001b[0m\u001b[0m\n\u001b[0m\u001b[1;32m    916\u001b[0m \u001b[0;34m\u001b[0m\u001b[0m\n\u001b[1;32m    917\u001b[0m                 \u001b[0;31m# we have yielded a scalar ?\u001b[0m\u001b[0;34m\u001b[0m\u001b[0;34m\u001b[0m\u001b[0;34m\u001b[0m\u001b[0m\n",
      "\u001b[0;32m/anaconda3/lib/python3.6/site-packages/pandas/core/indexing.py\u001b[0m in \u001b[0;36m_getitem_axis\u001b[0;34m(self, key, axis)\u001b[0m\n\u001b[1;32m   1823\u001b[0m         \u001b[0;31m# fall thru to straight lookup\u001b[0m\u001b[0;34m\u001b[0m\u001b[0;34m\u001b[0m\u001b[0;34m\u001b[0m\u001b[0m\n\u001b[1;32m   1824\u001b[0m         \u001b[0mself\u001b[0m\u001b[0;34m.\u001b[0m\u001b[0m_validate_key\u001b[0m\u001b[0;34m(\u001b[0m\u001b[0mkey\u001b[0m\u001b[0;34m,\u001b[0m \u001b[0maxis\u001b[0m\u001b[0;34m)\u001b[0m\u001b[0;34m\u001b[0m\u001b[0;34m\u001b[0m\u001b[0m\n\u001b[0;32m-> 1825\u001b[0;31m         \u001b[0;32mreturn\u001b[0m \u001b[0mself\u001b[0m\u001b[0;34m.\u001b[0m\u001b[0m_get_label\u001b[0m\u001b[0;34m(\u001b[0m\u001b[0mkey\u001b[0m\u001b[0;34m,\u001b[0m \u001b[0maxis\u001b[0m\u001b[0;34m=\u001b[0m\u001b[0maxis\u001b[0m\u001b[0;34m)\u001b[0m\u001b[0;34m\u001b[0m\u001b[0;34m\u001b[0m\u001b[0m\n\u001b[0m\u001b[1;32m   1826\u001b[0m \u001b[0;34m\u001b[0m\u001b[0m\n\u001b[1;32m   1827\u001b[0m \u001b[0;34m\u001b[0m\u001b[0m\n",
      "\u001b[0;32m/anaconda3/lib/python3.6/site-packages/pandas/core/indexing.py\u001b[0m in \u001b[0;36m_get_label\u001b[0;34m(self, label, axis)\u001b[0m\n\u001b[1;32m    155\u001b[0m             \u001b[0;32mraise\u001b[0m \u001b[0mIndexingError\u001b[0m\u001b[0;34m(\u001b[0m\u001b[0;34m\"no slices here, handle elsewhere\"\u001b[0m\u001b[0;34m)\u001b[0m\u001b[0;34m\u001b[0m\u001b[0;34m\u001b[0m\u001b[0m\n\u001b[1;32m    156\u001b[0m \u001b[0;34m\u001b[0m\u001b[0m\n\u001b[0;32m--> 157\u001b[0;31m         \u001b[0;32mreturn\u001b[0m \u001b[0mself\u001b[0m\u001b[0;34m.\u001b[0m\u001b[0mobj\u001b[0m\u001b[0;34m.\u001b[0m\u001b[0m_xs\u001b[0m\u001b[0;34m(\u001b[0m\u001b[0mlabel\u001b[0m\u001b[0;34m,\u001b[0m \u001b[0maxis\u001b[0m\u001b[0;34m=\u001b[0m\u001b[0maxis\u001b[0m\u001b[0;34m)\u001b[0m\u001b[0;34m\u001b[0m\u001b[0;34m\u001b[0m\u001b[0m\n\u001b[0m\u001b[1;32m    158\u001b[0m \u001b[0;34m\u001b[0m\u001b[0m\n\u001b[1;32m    159\u001b[0m     \u001b[0;32mdef\u001b[0m \u001b[0m_get_loc\u001b[0m\u001b[0;34m(\u001b[0m\u001b[0mself\u001b[0m\u001b[0;34m,\u001b[0m \u001b[0mkey\u001b[0m\u001b[0;34m:\u001b[0m \u001b[0mint\u001b[0m\u001b[0;34m,\u001b[0m \u001b[0maxis\u001b[0m\u001b[0;34m:\u001b[0m \u001b[0mint\u001b[0m\u001b[0;34m)\u001b[0m\u001b[0;34m:\u001b[0m\u001b[0;34m\u001b[0m\u001b[0;34m\u001b[0m\u001b[0m\n",
      "\u001b[0;32m/anaconda3/lib/python3.6/site-packages/pandas/core/generic.py\u001b[0m in \u001b[0;36mxs\u001b[0;34m(self, key, axis, level, drop_level)\u001b[0m\n\u001b[1;32m   3736\u001b[0m             \u001b[0mloc\u001b[0m\u001b[0;34m,\u001b[0m \u001b[0mnew_index\u001b[0m \u001b[0;34m=\u001b[0m \u001b[0mself\u001b[0m\u001b[0;34m.\u001b[0m\u001b[0mindex\u001b[0m\u001b[0;34m.\u001b[0m\u001b[0mget_loc_level\u001b[0m\u001b[0;34m(\u001b[0m\u001b[0mkey\u001b[0m\u001b[0;34m,\u001b[0m \u001b[0mdrop_level\u001b[0m\u001b[0;34m=\u001b[0m\u001b[0mdrop_level\u001b[0m\u001b[0;34m)\u001b[0m\u001b[0;34m\u001b[0m\u001b[0;34m\u001b[0m\u001b[0m\n\u001b[1;32m   3737\u001b[0m         \u001b[0;32melse\u001b[0m\u001b[0;34m:\u001b[0m\u001b[0;34m\u001b[0m\u001b[0;34m\u001b[0m\u001b[0m\n\u001b[0;32m-> 3738\u001b[0;31m             \u001b[0mloc\u001b[0m \u001b[0;34m=\u001b[0m \u001b[0mself\u001b[0m\u001b[0;34m.\u001b[0m\u001b[0mindex\u001b[0m\u001b[0;34m.\u001b[0m\u001b[0mget_loc\u001b[0m\u001b[0;34m(\u001b[0m\u001b[0mkey\u001b[0m\u001b[0;34m)\u001b[0m\u001b[0;34m\u001b[0m\u001b[0;34m\u001b[0m\u001b[0m\n\u001b[0m\u001b[1;32m   3739\u001b[0m \u001b[0;34m\u001b[0m\u001b[0m\n\u001b[1;32m   3740\u001b[0m             \u001b[0;32mif\u001b[0m \u001b[0misinstance\u001b[0m\u001b[0;34m(\u001b[0m\u001b[0mloc\u001b[0m\u001b[0;34m,\u001b[0m \u001b[0mnp\u001b[0m\u001b[0;34m.\u001b[0m\u001b[0mndarray\u001b[0m\u001b[0;34m)\u001b[0m\u001b[0;34m:\u001b[0m\u001b[0;34m\u001b[0m\u001b[0;34m\u001b[0m\u001b[0m\n",
      "\u001b[0;32m/anaconda3/lib/python3.6/site-packages/pandas/core/indexes/base.py\u001b[0m in \u001b[0;36mget_loc\u001b[0;34m(self, key, method, tolerance)\u001b[0m\n\u001b[1;32m   2890\u001b[0m                 \u001b[0;32mreturn\u001b[0m \u001b[0mself\u001b[0m\u001b[0;34m.\u001b[0m\u001b[0m_engine\u001b[0m\u001b[0;34m.\u001b[0m\u001b[0mget_loc\u001b[0m\u001b[0;34m(\u001b[0m\u001b[0mkey\u001b[0m\u001b[0;34m)\u001b[0m\u001b[0;34m\u001b[0m\u001b[0;34m\u001b[0m\u001b[0m\n\u001b[1;32m   2891\u001b[0m             \u001b[0;32mexcept\u001b[0m \u001b[0mKeyError\u001b[0m\u001b[0;34m:\u001b[0m\u001b[0;34m\u001b[0m\u001b[0;34m\u001b[0m\u001b[0m\n\u001b[0;32m-> 2892\u001b[0;31m                 \u001b[0;32mreturn\u001b[0m \u001b[0mself\u001b[0m\u001b[0;34m.\u001b[0m\u001b[0m_engine\u001b[0m\u001b[0;34m.\u001b[0m\u001b[0mget_loc\u001b[0m\u001b[0;34m(\u001b[0m\u001b[0mself\u001b[0m\u001b[0;34m.\u001b[0m\u001b[0m_maybe_cast_indexer\u001b[0m\u001b[0;34m(\u001b[0m\u001b[0mkey\u001b[0m\u001b[0;34m)\u001b[0m\u001b[0;34m)\u001b[0m\u001b[0;34m\u001b[0m\u001b[0;34m\u001b[0m\u001b[0m\n\u001b[0m\u001b[1;32m   2893\u001b[0m         \u001b[0mindexer\u001b[0m \u001b[0;34m=\u001b[0m \u001b[0mself\u001b[0m\u001b[0;34m.\u001b[0m\u001b[0mget_indexer\u001b[0m\u001b[0;34m(\u001b[0m\u001b[0;34m[\u001b[0m\u001b[0mkey\u001b[0m\u001b[0;34m]\u001b[0m\u001b[0;34m,\u001b[0m \u001b[0mmethod\u001b[0m\u001b[0;34m=\u001b[0m\u001b[0mmethod\u001b[0m\u001b[0;34m,\u001b[0m \u001b[0mtolerance\u001b[0m\u001b[0;34m=\u001b[0m\u001b[0mtolerance\u001b[0m\u001b[0;34m)\u001b[0m\u001b[0;34m\u001b[0m\u001b[0;34m\u001b[0m\u001b[0m\n\u001b[1;32m   2894\u001b[0m         \u001b[0;32mif\u001b[0m \u001b[0mindexer\u001b[0m\u001b[0;34m.\u001b[0m\u001b[0mndim\u001b[0m \u001b[0;34m>\u001b[0m \u001b[0;36m1\u001b[0m \u001b[0;32mor\u001b[0m \u001b[0mindexer\u001b[0m\u001b[0;34m.\u001b[0m\u001b[0msize\u001b[0m \u001b[0;34m>\u001b[0m \u001b[0;36m1\u001b[0m\u001b[0;34m:\u001b[0m\u001b[0;34m\u001b[0m\u001b[0;34m\u001b[0m\u001b[0m\n",
      "\u001b[0;32mpandas/_libs/index.pyx\u001b[0m in \u001b[0;36mpandas._libs.index.IndexEngine.get_loc\u001b[0;34m()\u001b[0m\n",
      "\u001b[0;32mpandas/_libs/index.pyx\u001b[0m in \u001b[0;36mpandas._libs.index.IndexEngine.get_loc\u001b[0;34m()\u001b[0m\n",
      "\u001b[0;32mpandas/_libs/index_class_helper.pxi\u001b[0m in \u001b[0;36mpandas._libs.index.Int64Engine._check_type\u001b[0;34m()\u001b[0m\n",
      "\u001b[0;31mKeyError\u001b[0m: 'Country Name'"
     ]
    }
   ],
   "source": [
    "nulls = 0\n",
    "for feature in features:\n",
    "    for row in world_bank[world_bank['Indicator Name'] == feature]:\n",
    "        for column in world_bank[world_bank['Indicator Name'] == feature].columns:\n",
    "            if world_bank[world_bank['Indicator Name'] == feature].loc[row, column][0].isna() == True:\n",
    "                nulls += 1\n",
    "    print(nulls)"
   ]
  },
  {
   "cell_type": "code",
   "execution_count": 5,
   "metadata": {},
   "outputs": [],
   "source": [
    "features = ['Literacy rate, youth total (% of people ages 15-24)',\n",
    "            'Net intake rate in grade 1 (% of official school-age population)',\n",
    "            'Gross intake ratio in first grade of primary education, total (% of relevant age group)',\n",
    "            'School enrollment, primary (% gross)',\n",
    "            'School enrollment, primary (% net)',\n",
    "            'School enrollment, secondary (% gross)',\n",
    "            'School enrollment, secondary (% net)',\n",
    "            'School enrollment, tertiary (% gross)',\n",
    "            'Adjusted net enrollment rate, primary (% of primary school age children)']"
   ]
  },
  {
   "cell_type": "markdown",
   "metadata": {},
   "source": [
    "[variable_info[['INDICATOR_NAME', 'SOURCE_NOTE']].iloc[i][1] for i in range(len(variable_info))]"
   ]
  },
  {
   "cell_type": "code",
   "execution_count": 6,
   "metadata": {},
   "outputs": [],
   "source": [
    "def word_counter(sentence):\n",
    "    word_list = [word.replace('.','').replace('\"','').replace('\\n','').lower() for word in sentence.split()]\n",
    "    word_set = set(word_list)\n",
    "    count_dict = {word: 0 for word in word_set}\n",
    "    for word in word_list:\n",
    "        if word in word_set:\n",
    "            count_dict[word] += 1\n",
    "    return pd.DataFrame(count_dict, index=['counts'])"
   ]
  },
  {
   "cell_type": "code",
   "execution_count": 7,
   "metadata": {},
   "outputs": [
    {
     "ename": "NameError",
     "evalue": "name 'test' is not defined",
     "output_type": "error",
     "traceback": [
      "\u001b[0;31m---------------------------------------------------------------------------\u001b[0m",
      "\u001b[0;31mNameError\u001b[0m                                 Traceback (most recent call last)",
      "\u001b[0;32m<ipython-input-7-7da02ce05fd5>\u001b[0m in \u001b[0;36m<module>\u001b[0;34m\u001b[0m\n\u001b[0;32m----> 1\u001b[0;31m \u001b[0mword_counter\u001b[0m\u001b[0;34m(\u001b[0m\u001b[0mtest\u001b[0m\u001b[0;34m)\u001b[0m\u001b[0;34m.\u001b[0m\u001b[0mT\u001b[0m\u001b[0;34m.\u001b[0m\u001b[0msort_values\u001b[0m\u001b[0;34m(\u001b[0m\u001b[0;34m'counts'\u001b[0m\u001b[0;34m,\u001b[0m \u001b[0mascending\u001b[0m\u001b[0;34m=\u001b[0m\u001b[0;32mFalse\u001b[0m\u001b[0;34m)\u001b[0m\u001b[0;34m\u001b[0m\u001b[0;34m\u001b[0m\u001b[0m\n\u001b[0m",
      "\u001b[0;31mNameError\u001b[0m: name 'test' is not defined"
     ]
    }
   ],
   "source": [
    "word_counter(test).T.sort_values('counts', ascending=False)"
   ]
  },
  {
   "cell_type": "code",
   "execution_count": null,
   "metadata": {},
   "outputs": [],
   "source": []
  }
 ],
 "metadata": {
  "kernelspec": {
   "display_name": "Python 3",
   "language": "python",
   "name": "python3"
  },
  "language_info": {
   "codemirror_mode": {
    "name": "ipython",
    "version": 3
   },
   "file_extension": ".py",
   "mimetype": "text/x-python",
   "name": "python",
   "nbconvert_exporter": "python",
   "pygments_lexer": "ipython3",
   "version": "3.6.9"
  },
  "latex_envs": {
   "LaTeX_envs_menu_present": true,
   "autoclose": false,
   "autocomplete": true,
   "bibliofile": "biblio.bib",
   "cite_by": "apalike",
   "current_citInitial": 1,
   "eqLabelWithNumbers": true,
   "eqNumInitial": 1,
   "hotkeys": {
    "equation": "Ctrl-E",
    "itemize": "Ctrl-I"
   },
   "labels_anchors": false,
   "latex_user_defs": false,
   "report_style_numbering": false,
   "user_envs_cfg": false
  },
  "varInspector": {
   "cols": {
    "lenName": 16,
    "lenType": 16,
    "lenVar": 40
   },
   "kernels_config": {
    "python": {
     "delete_cmd_postfix": "",
     "delete_cmd_prefix": "del ",
     "library": "var_list.py",
     "varRefreshCmd": "print(var_dic_list())"
    },
    "r": {
     "delete_cmd_postfix": ") ",
     "delete_cmd_prefix": "rm(",
     "library": "var_list.r",
     "varRefreshCmd": "cat(var_dic_list()) "
    }
   },
   "types_to_exclude": [
    "module",
    "function",
    "builtin_function_or_method",
    "instance",
    "_Feature"
   ],
   "window_display": false
  }
 },
 "nbformat": 4,
 "nbformat_minor": 2
}
